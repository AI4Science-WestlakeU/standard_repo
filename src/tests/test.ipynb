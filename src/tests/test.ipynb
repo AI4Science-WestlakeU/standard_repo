{
 "cells": [
  {
   "cell_type": "code",
   "execution_count": 3,
   "metadata": {},
   "outputs": [
    {
     "data": {
      "text/plain": [
       "'/user/project2024/standard_repo/src'"
      ]
     },
     "execution_count": 3,
     "metadata": {},
     "output_type": "execute_result"
    }
   ],
   "source": [
    "import os\n",
    "\n",
    "# 获取当前工作目录\n",
    "current_wp = os.getcwd()\n",
    "\n",
    "# 获取上一级目录\n",
    "parent_wp = os.path.dirname(current_wp)\n",
    "parent_wp"
   ]
  },
  {
   "cell_type": "code",
   "execution_count": 4,
   "metadata": {},
   "outputs": [
    {
     "name": "stdout",
     "output_type": "stream",
     "text": [
      "处理后的路径: /user/project2024/standard_repo/src/\n"
     ]
    }
   ],
   "source": [
    "import os\n",
    "\n",
    "path = \"/user/project2024/standard_repo/src/test/\"\n",
    "path_parts = path.strip('/').split('/')  \n",
    "\n",
    "result_parts = []\n",
    "for part in path_parts:\n",
    "    result_parts.append(part)\n",
    "    if part == 'src':\n",
    "        break\n",
    "result_path = '/' + os.path.join(*result_parts) + '/'  # 添加尾部斜杠以保持原始格式\n",
    "\n",
    "print(\"处理后的路径:\", result_path)"
   ]
  },
  {
   "cell_type": "code",
   "execution_count": 5,
   "metadata": {},
   "outputs": [],
   "source": [
    "import matplotlib.pyplot as plt\n",
    "\n",
    "def draw_loss(training_loss_list, test_loss_list, save_path):\n",
    "    \"\"\"\n",
    "    Plot the training and testing loss curves and save the plot to a file.\n",
    "    \n",
    "    Args:\n",
    "    training_loss_list (list): List of training losses.\n",
    "    test_loss_list (list): List of testing losses.\n",
    "    save_path (str): Path where the plot will be saved.\n",
    "    \n",
    "    Returns:\n",
    "    None\n",
    "    \"\"\"\n",
    "    # Create a figure and axis object using plt.subplots\n",
    "    fig, ax = plt.subplots()\n",
    "\n",
    "    # Plot training and testing loss\n",
    "    ax.plot(training_loss_list, label='Training Loss')\n",
    "    ax.plot(test_loss_list, label='Testing Loss')\n",
    "\n",
    "    # Set title and labels\n",
    "    ax.set_title('Training and Testing Loss During Training')\n",
    "    ax.set_xlabel('Epochs')\n",
    "    ax.set_ylabel('Loss')\n",
    "\n",
    "    # Display legend\n",
    "    ax.legend()\n",
    "\n",
    "    # Save the plot to the specified file\n",
    "    plt.savefig(save_path)\n",
    "\n",
    "    # Show the plot\n",
    "    # plt.show()"
   ]
  },
  {
   "cell_type": "code",
   "execution_count": 11,
   "metadata": {},
   "outputs": [
    {
     "name": "stdout",
     "output_type": "stream",
     "text": [
      "NVIDIA A100-SXM4-80GB\n"
     ]
    }
   ],
   "source": [
    "import torch\n",
    "\n",
    "print(torch.cuda.get_device_name())"
   ]
  },
  {
   "cell_type": "code",
   "execution_count": 7,
   "metadata": {},
   "outputs": [
    {
     "data": {
      "image/png": "[encoded data removed]",
      "text/plain": [
       "<Figure size 432x288 with 1 Axes>"
      ]
     },
     "metadata": {
      "needs_background": "light"
     },
     "output_type": "display_data"
    }
   ],
   "source": [
    "train_loss_list = [10.,8,6,5]\n",
    "test_loss_list = [9,7,6,5]\n",
    "save_path = '/user/project2024/standard_repo/src/tests/loss.png'\n",
    "draw_loss(train_loss_list, test_loss_list, save_path)"
   ]
  }
 ],
 "metadata": {
  "kernelspec": {
   "display_name": "control",
   "language": "python",
   "name": "python3"
  },
  "language_info": {
   "codemirror_mode": {
    "name": "ipython",
    "version": 3
   },
   "file_extension": ".py",
   "mimetype": "text/x-python",
   "name": "python",
   "nbconvert_exporter": "python",
   "pygments_lexer": "ipython3",
   "version": "3.8.12"
  }
 },
 "nbformat": 4,
 "nbformat_minor": 2
}
